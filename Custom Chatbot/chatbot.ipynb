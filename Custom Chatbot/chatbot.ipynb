{
  "cells": [
    {
      "cell_type": "code",
      "execution_count": null,
      "metadata": {
        "id": "qDUdOZiJDC13"
      },
      "outputs": [],
      "source": [
        "!pip install beautifulsoup4 requests"
      ]
    },
    {
      "cell_type": "code",
      "execution_count": 50,
      "metadata": {
        "id": "Ab1CmoMwZiiA"
      },
      "outputs": [],
      "source": [
        "import requests\n",
        "from bs4 import BeautifulSoup\n",
        "from transformers import pipeline"
      ]
    },
    {
      "cell_type": "code",
      "execution_count": null,
      "metadata": {
        "colab": {
          "base_uri": "https://localhost:8080/"
        },
        "id": "KrNkM5byBM-G",
        "outputId": "7069abfd-a5d9-4e96-8d1a-f843d8edd5f6"
      },
      "outputs": [],
      "source": [
        "# Initialize language model\n",
        "llm = pipeline(\"text-generation\", model=\"distilgpt2\")\n",
        "\n",
        "# Function to scrape book data from Project Gutenberg\n",
        "def scrape_books_data():\n",
        "    url = \"https://www.gutenberg.org/browse/scores/top\"\n",
        "    response = requests.get(url)\n",
        "    soup = BeautifulSoup(response.content, \"html.parser\")\n",
        "\n",
        "    # Find book titles and authors (simplified scraping)\n",
        "    books_data = []\n",
        "    for item in soup.select(\"ol li a\"):\n",
        "        title = item.get_text()\n",
        "        link = \"https://www.gutenberg.org\" + item['href']\n",
        "        books_data.append({\"title\": title, \"link\": link})\n",
        "        # Collect limited items for demonstration\n",
        "        if len(books_data) >= 50:\n",
        "            break\n",
        "\n",
        "    return books_data"
      ]
    },
    {
      "cell_type": "code",
      "execution_count": 52,
      "metadata": {
        "id": "H29LBXuGVJs2"
      },
      "outputs": [],
      "source": [
        "# Function to find all books with a specific keyword\n",
        "def find_books_with_keyword(keyword, books_data):\n",
        "    matched_books = [book for book in books_data if keyword.lower() in book[\"title\"].lower()]\n",
        "    if matched_books:\n",
        "        return \"\\n\".join([f\"Title: {book['title']}\\nLink: {book['link']}\" for book in matched_books])\n",
        "    else:\n",
        "        return \"Sorry, I couldn't find any books with that keyword.\""
      ]
    },
    {
      "cell_type": "code",
      "execution_count": 53,
      "metadata": {
        "id": "LEtG6d_qvUY0"
      },
      "outputs": [],
      "source": [
        "# Chatbot function\n",
        "def chat_with_bot(user_input, books_data):\n",
        "    if \"book\" in user_input.lower():\n",
        "        # Extract keyword based on \"about\" or \"with keyword\"\n",
        "        if \"about\" in user_input.lower():\n",
        "            keyword = user_input.lower().split(\"about\")[-1].strip()\n",
        "        elif \"with keyword\" in user_input.lower():\n",
        "            keyword = user_input.lower().split(\"with keyword\")[-1].strip()\n",
        "        else:\n",
        "            keyword = user_input.strip()\n",
        "\n",
        "        # Perform search with the extracted keyword\n",
        "        return find_books_with_keyword(keyword, books_data)\n",
        "    else:\n",
        "        # Use model for general conversation\n",
        "        response = llm(f\"{user_input}\", max_length=100, num_return_sequences=1, do_sample=True)\n",
        "        return response[0]['generated_text'].strip()"
      ]
    },
    {
      "cell_type": "code",
      "execution_count": 54,
      "metadata": {
        "colab": {
          "base_uri": "https://localhost:8080/"
        },
        "id": "UtYGSoXFVQbj",
        "outputId": "1e719950-bcb0-40bd-d70d-77b876c3c1db"
      },
      "outputs": [
        {
          "name": "stdout",
          "output_type": "stream",
          "text": [
            "Books data loaded successfully.\n"
          ]
        }
      ],
      "source": [
        "# Scrape books data dynamically\n",
        "books_data = scrape_books_data()\n",
        "print(\"Books data loaded successfully.\")"
      ]
    },
    {
      "cell_type": "code",
      "execution_count": null,
      "metadata": {
        "colab": {
          "base_uri": "https://localhost:8080/"
        },
        "id": "1TZSY3EsX4tD",
        "outputId": "7b34f326-d796-4a2a-85c2-afe6cd5ce0b7"
      },
      "outputs": [],
      "source": [
        "# Chat interaction\n",
        "print(\"Welcome to the Book Chatbot! Ask me about books.\")\n",
        "while True:\n",
        "    user_input = input(\"You: \")\n",
        "    if user_input.lower() in [\"exit\", \"quit\", \"bye\"]:\n",
        "        print(\"Goodbye!\")\n",
        "        break\n",
        "    response = chat_with_bot(user_input, books_data)\n",
        "    print(\"Bot:\", response)"
      ]
    }
  ],
  "metadata": {
    "accelerator": "GPU",
    "colab": {
      "gpuType": "T4",
      "provenance": []
    },
    "kernelspec": {
      "display_name": "Python 3",
      "name": "python3"
    },
    "language_info": {
      "name": "python"
    }
  },
  "nbformat": 4,
  "nbformat_minor": 0
}
