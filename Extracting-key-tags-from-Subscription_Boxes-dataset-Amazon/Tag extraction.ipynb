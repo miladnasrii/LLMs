{
  "cells": [
    {
      "cell_type": "code",
      "execution_count": null,
      "metadata": {
        "id": "EJw5PVvxLTxp"
      },
      "outputs": [],
      "source": [
        "!pip install -U spacy\n",
        "!python -m spacy download en_core_web_md"
      ]
    },
    {
      "cell_type": "code",
      "execution_count": 31,
      "metadata": {
        "id": "5DKljKBAZ_-I"
      },
      "outputs": [],
      "source": [
        "import json\n",
        "from sklearn.feature_extraction.text import CountVectorizer\n",
        "import spacy\n",
        "# from collections import Counter"
      ]
    },
    {
      "cell_type": "code",
      "execution_count": 33,
      "metadata": {
        "id": "D60E_o_tEGU7"
      },
      "outputs": [],
      "source": [
        "nlp = spacy.load(\"en_core_web_md\")"
      ]
    },
    {
      "cell_type": "code",
      "execution_count": 34,
      "metadata": {
        "id": "72d8hyIman0s"
      },
      "outputs": [],
      "source": [
        "file_path = '/Subscription_Boxes.jsonl'"
      ]
    },
    {
      "cell_type": "code",
      "execution_count": 35,
      "metadata": {
        "id": "2vDDoj5CbBeJ"
      },
      "outputs": [],
      "source": [
        "reviews = []\n",
        "with open(file_path, 'r') as file:\n",
        "    for line in file:\n",
        "        data = json.loads(line)\n",
        "        reviews.append(data['text'])"
      ]
    },
    {
      "cell_type": "code",
      "execution_count": 36,
      "metadata": {
        "id": "CbYsjs_QcaQI"
      },
      "outputs": [],
      "source": [
        "def extract_features(reviews):\n",
        "    features = []\n",
        "    for review in reviews:\n",
        "        doc = nlp(review)\n",
        "        for sent in doc.sents:\n",
        "            sent_features = []\n",
        "            for token in sent:\n",
        "                if token.pos_ in ['ADJ', 'NOUN']:\n",
        "                    sent_features.append(token.text.lower())\n",
        "            if sent_features:\n",
        "                features.append(sent_features)\n",
        "    return features"
      ]
    },
    {
      "cell_type": "code",
      "execution_count": 37,
      "metadata": {
        "id": "GwZPpaBDcf5n"
      },
      "outputs": [],
      "source": [
        "all_features = extract_features(reviews)\n",
        "# print(f\"Extracted features: {all_features}\")"
      ]
    },
    {
      "cell_type": "code",
      "execution_count": 38,
      "metadata": {
        "id": "KbhmX2ccQW3G"
      },
      "outputs": [],
      "source": [
        "flat_features = [item for sublist in all_features for item in sublist]\n",
        "vectorizer = CountVectorizer()\n",
        "X = vectorizer.fit_transform(flat_features)"
      ]
    },
    {
      "cell_type": "code",
      "execution_count": 39,
      "metadata": {
        "id": "HB8c72dH_dbW"
      },
      "outputs": [],
      "source": [
        "def get_word_by_id(id):\n",
        "    return id_to_word.get(id, \"ID not found\")"
      ]
    },
    {
      "cell_type": "code",
      "execution_count": null,
      "metadata": {
        "colab": {
          "base_uri": "https://localhost:8080/"
        },
        "id": "74sZIkJH-uXv",
        "outputId": "2d57f170-a3f6-4355-fe45-eee067a8b377"
      },
      "outputs": [],
      "source": [
        "for idx, feature_list in enumerate(all_features):\n",
        "    print(f\"Tags for review {idx + 1}: {feature_list}\")"
      ]
    }
  ],
  "metadata": {
    "colab": {
      "provenance": []
    },
    "kernelspec": {
      "display_name": "Python 3",
      "name": "python3"
    },
    "language_info": {
      "name": "python"
    }
  },
  "nbformat": 4,
  "nbformat_minor": 0
}
