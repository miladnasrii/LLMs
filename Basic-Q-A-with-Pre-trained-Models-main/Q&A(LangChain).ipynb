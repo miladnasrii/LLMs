{
  "cells": [
    {
      "cell_type": "code",
      "execution_count": 61,
      "metadata": {
        "id": "ZU4JnTgxY-qf"
      },
      "outputs": [],
      "source": [
        "from langchain.llms import OpenAI\n",
        "from langchain.prompts import PromptTemplate\n",
        "import docx2txt\n",
        "import os\n",
        "import time"
      ]
    },
    {
      "cell_type": "markdown",
      "metadata": {
        "id": "RqWy3skHbGIU"
      },
      "source": [
        "Read .docx file"
      ]
    },
    {
      "cell_type": "code",
      "execution_count": 62,
      "metadata": {
        "id": "EdgF08TtZgYk"
      },
      "outputs": [],
      "source": [
        "my_text = docx2txt.process(\"/content/drive/MyDrive/CV_Milad_Nasri.docx\")"
      ]
    },
    {
      "cell_type": "code",
      "execution_count": 63,
      "metadata": {
        "id": "2r9dWjoncPuR"
      },
      "outputs": [],
      "source": [
        "openai_api_key = \"Enter_Openai_API_key\""
      ]
    },
    {
      "cell_type": "code",
      "execution_count": 64,
      "metadata": {
        "id": "JMrvROmjbYaW"
      },
      "outputs": [],
      "source": [
        "llm = OpenAI(model=\"gpt-3.5-turbo\", temperature=0.8)"
      ]
    },
    {
      "cell_type": "code",
      "execution_count": 65,
      "metadata": {
        "id": "LYliS1gt5tpv"
      },
      "outputs": [],
      "source": [
        "prompt_template = PromptTemplate(\n",
        "    input_variables=[\"resume\", \"question\"],\n",
        "    template=\"Based on the following resume:\\n{resume}\\n\\nAnswer the question: {question}\"\n",
        ")"
      ]
    },
    {
      "cell_type": "code",
      "execution_count": 67,
      "metadata": {
        "id": "hGk-jWWJ51Am"
      },
      "outputs": [],
      "source": [
        "question = \"What are the key skills mentioned in the resume?\"\n",
        "prompt_value = prompt_template.format(resume=my_text, question=question)\n",
        "# print(prompt_value)"
      ]
    },
    {
      "cell_type": "code",
      "execution_count": 60,
      "metadata": {
        "id": "WYDp1jsH6UQr"
      },
      "outputs": [],
      "source": [
        "time.sleep(5)\n",
        "chatgpt_res = llm(prompt_value)\n",
        "print(chatgpt_res)"
      ]
    }
  ],
  "metadata": {
    "accelerator": "GPU",
    "colab": {
      "gpuType": "T4",
      "provenance": []
    },
    "kernelspec": {
      "display_name": "Python 3",
      "name": "python3"
    },
    "language_info": {
      "name": "python"
    }
  },
  "nbformat": 4,
  "nbformat_minor": 0
}
