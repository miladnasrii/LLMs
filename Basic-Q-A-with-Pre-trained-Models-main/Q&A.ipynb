{
  "nbformat": 4,
  "nbformat_minor": 0,
  "metadata": {
    "colab": {
      "provenance": [],
      "gpuType": "T4"
    },
    "kernelspec": {
      "name": "python3",
      "display_name": "Python 3"
    },
    "language_info": {
      "name": "python"
    },
    "accelerator": "GPU"
  },
  "cells": [
    {
      "cell_type": "code",
      "source": [
        "!pip install docx2txt\n",
        "!pip install PyPDF2\n",
        "!pip install PdfReader"
      ],
      "metadata": {
        "id": "YO24zn1G3Eq2"
      },
      "execution_count": null,
      "outputs": []
    },
    {
      "cell_type": "code",
      "source": [
        "from transformers import AutoModelForQuestionAnswering, AutoTokenizer, pipeline\n",
        "import docx2txt\n",
        "from PyPDF2 import PdfReader"
      ],
      "metadata": {
        "id": "8RqKWuZaVaj1"
      },
      "execution_count": 2,
      "outputs": []
    },
    {
      "cell_type": "code",
      "source": [
        "pipe = pipeline(\"question-answering\", model=\"distilbert/distilbert-base-cased-distilled-squad\")"
      ],
      "metadata": {
        "id": "r5bvrt23Vcef"
      },
      "execution_count": null,
      "outputs": []
    },
    {
      "cell_type": "code",
      "source": [
        "reader = PdfReader('/content/drive/MyDrive/CV_Milad_Nasri.pdf')\n",
        "all_text = \"\"\n",
        "number_of_pages = len(reader.pages)\n",
        "for page_num in range(number_of_pages):\n",
        "    page = reader.pages[page_num]\n",
        "    text = page.extract_text()\n",
        "    all_text += text + \"\\n\"\n",
        "    # print(f\"Text from page {page_num + 1}:\\n{text}\\n\")"
      ],
      "metadata": {
        "id": "n-9vcQupgXjq"
      },
      "execution_count": 5,
      "outputs": []
    },
    {
      "cell_type": "markdown",
      "source": [
        "Read .doc file"
      ],
      "metadata": {
        "id": "TPxiTCkAWMpG"
      }
    },
    {
      "cell_type": "code",
      "source": [
        "my_text = docx2txt.process(\"/content/drive/MyDrive/CV_Milad_Nasri.docx\")\n",
        "# print(my_text)"
      ],
      "metadata": {
        "id": "ZgdFpAdBYFE0"
      },
      "execution_count": 10,
      "outputs": []
    },
    {
      "cell_type": "markdown",
      "source": [
        "Load model & tokenizer"
      ],
      "metadata": {
        "id": "wH2Cu5DeVqTz"
      }
    },
    {
      "cell_type": "code",
      "source": [
        "tokenizer = AutoTokenizer.from_pretrained(\"distilbert/distilbert-base-cased-distilled-squad\")\n",
        "model = AutoModelForQuestionAnswering.from_pretrained(\"distilbert/distilbert-base-cased-distilled-squad\")"
      ],
      "metadata": {
        "id": "l4QgKBU9Vrb_"
      },
      "execution_count": 11,
      "outputs": []
    },
    {
      "cell_type": "markdown",
      "source": [
        "Get prediction (doc file)"
      ],
      "metadata": {
        "id": "Y2xBQhuoVj1e"
      }
    },
    {
      "cell_type": "code",
      "source": [
        "question_answerer = pipeline(\"question-answering\", model=model, tokenizer=tokenizer)\n",
        "question=\"What is his date of birth?\"\n",
        "result = question_answerer(question=question, context=my_text)"
      ],
      "metadata": {
        "id": "GnVhxSCBVlny"
      },
      "execution_count": null,
      "outputs": []
    },
    {
      "cell_type": "markdown",
      "source": [
        "Get prediction (PDF file)\n"
      ],
      "metadata": {
        "id": "k7_2x00FMPrP"
      }
    },
    {
      "cell_type": "code",
      "source": [
        "# question_answerer = pipeline(\"question-answering\", model=model, tokenizer=tokenizer)\n",
        "# question=\"what is his name?\"\n",
        "# result = question_answerer(question=question, context=all_text)"
      ],
      "metadata": {
        "id": "mP0ngaAzMbjA"
      },
      "execution_count": null,
      "outputs": []
    },
    {
      "cell_type": "code",
      "source": [
        "if 'answer' in result and result['answer']:\n",
        "    print(\"Answer:\", result['answer'])\n",
        "else:\n",
        "    print(\"No answer found.\")"
      ],
      "metadata": {
        "id": "nTmBDA1yVvlV"
      },
      "execution_count": null,
      "outputs": []
    }
  ]
}