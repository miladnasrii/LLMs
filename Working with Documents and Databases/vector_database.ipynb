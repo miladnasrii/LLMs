{
 "cells": [
  {
   "cell_type": "code",
   "execution_count": null,
   "metadata": {
    "id": "D5AwgwnDZw7q"
   },
   "outputs": [],
   "source": [
    "!pip install PyPDF2 python-docx\n",
    "!pip install faiss-cpu\n",
    "!pip install transformers langchain_community faiss-cpu"
   ]
  },
  {
   "cell_type": "code",
   "execution_count": null,
   "metadata": {
    "id": "ZZ4ZcxPgbJgZ"
   },
   "outputs": [],
   "source": [
    "from PyPDF2 import PdfReader\n",
    "from docx import Document\n",
    "import faiss\n",
    "import numpy as np\n",
    "from sklearn.feature_extraction.text import TfidfVectorizer\n",
    "from langchain.text_splitter import RecursiveCharacterTextSplitter\n",
    "from transformers import pipeline"
   ]
  },
  {
   "cell_type": "code",
   "execution_count": null,
   "metadata": {
    "id": "k1iLu6U4ha0P"
   },
   "outputs": [],
   "source": [
    "# Loading model LLM from Hugging Face\n",
    "qa_pipeline = pipeline(\"question-answering\", model=\"deepset/roberta-base-squad2\")"
   ]
  },
  {
   "cell_type": "code",
   "execution_count": null,
   "metadata": {
    "id": "7DZhOIgZhcmH"
   },
   "outputs": [],
   "source": [
    "def load_document(file_path):\n",
    "    content = \"\"\n",
    "    if file_path.endswith(\".pdf\"):\n",
    "        reader = PdfReader(file_path)\n",
    "        for page in reader.pages:\n",
    "            content += page.extract_text() if page.extract_text() else \"\"\n",
    "    elif file_path.endswith(\".docx\"):\n",
    "        doc = Document(file_path)\n",
    "        for para in doc.paragraphs:\n",
    "            content += para.text\n",
    "    else:\n",
    "        raise ValueError(\"Unsupported file format. Please use PDF or Word documents.\")\n",
    "    return content"
   ]
  },
  {
   "cell_type": "code",
   "execution_count": null,
   "metadata": {
    "id": "aNKU7F-RbOxw"
   },
   "outputs": [],
   "source": [
    "document_link = \"<Your document link>\"\n",
    "document_content = load_document(document_link)"
   ]
  },
  {
   "cell_type": "code",
   "execution_count": null,
   "metadata": {
    "id": "doOlbqQlbVH1"
   },
   "outputs": [],
   "source": [
    "# Split the text into smaller parts\n",
    "text_splitter = RecursiveCharacterTextSplitter(chunk_size=600, chunk_overlap=100)\n",
    "chunks = text_splitter.split_text(document_content)"
   ]
  },
  {
   "cell_type": "code",
   "execution_count": null,
   "metadata": {
    "id": "4emHedSjbZvm"
   },
   "outputs": [],
   "source": [
    "# Generate text vectors using TF-IDF\n",
    "vectorizer = TfidfVectorizer(max_features=1000)\n",
    "vectors = vectorizer.fit_transform(chunks).toarray().astype('float32')"
   ]
  },
  {
   "cell_type": "code",
   "execution_count": null,
   "metadata": {
    "colab": {
     "base_uri": "https://localhost:8080/"
    },
    "id": "bCBECozpbc2K",
    "outputId": "6c80a11f-e27a-4ba9-bc35-3fa1a70716d1"
   },
   "outputs": [],
   "source": [
    "# Building the FAISS index and adding vectors\n",
    "d = vectors.shape[1]  # Vector dimensions\n",
    "index = faiss.IndexFlatL2(d)  # Index to search for L2 distance\n",
    "index.add(vectors)\n",
    "print(\"Number of vectors in the index:\", index.ntotal)"
   ]
  },
  {
   "cell_type": "code",
   "execution_count": null,
   "metadata": {
    "id": "t17a2Vyzd1yt"
   },
   "outputs": [],
   "source": [
    "# Function to answer questions using the LLM model\n",
    "def get_answer(query_text, k=5):\n",
    "    query_vector = vectorizer.transform([query_text]).toarray().astype('float32')\n",
    "    D, I = index.search(query_vector, k)\n",
    "\n",
    "    # Choose the best part for the answer\n",
    "    top_snippets = [chunks[i] for i in I[0]]\n",
    "\n",
    "    # Return response using LLM\n",
    "    context = \" \".join(top_snippets)\n",
    "    response = qa_pipeline(question=query_text, context=context)\n",
    "    return response['answer']"
   ]
  },
  {
   "cell_type": "code",
   "execution_count": null,
   "metadata": {
    "id": "aueFh8Kcd3rQ"
   },
   "outputs": [],
   "source": [
    "while True:\n",
    "    user_input = input(\"\\nEnter your question (type 'exit' to quit): \")\n",
    "    if user_input.lower() == 'exit':\n",
    "        break\n",
    "    answer = get_answer(user_input)\n",
    "    print(\"\\nAnswer:\\n\", answer)"
   ]
  }
 ],
 "metadata": {
  "accelerator": "GPU",
  "colab": {
   "gpuType": "T4",
   "provenance": []
  },
  "kernelspec": {
   "display_name": "Python 3",
   "name": "python3"
  },
  "language_info": {
   "name": "python"
  }
 },
 "nbformat": 4,
 "nbformat_minor": 0
}
